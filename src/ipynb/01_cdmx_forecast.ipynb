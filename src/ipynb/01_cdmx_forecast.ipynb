{
 "cells": [
  {
   "cell_type": "code",
   "execution_count": 16,
   "id": "775d8465",
   "metadata": {},
   "outputs": [],
   "source": [
    "from keplergl import KeplerGl\n",
    "import geopandas as gpd\n",
    "import os\n",
    "import pathlib"
   ]
  },
  {
   "cell_type": "code",
   "execution_count": 17,
   "id": "4de28df0",
   "metadata": {},
   "outputs": [
    {
     "data": {
      "text/plain": [
       "WindowsPath('C:/Users/mi21800/Documents/Proyectos/COP/maxent')"
      ]
     },
     "execution_count": 17,
     "metadata": {},
     "output_type": "execute_result"
    }
   ],
   "source": [
    "directorio = pathlib.Path(os.getcwd()).parents[1]\n",
    "os.chdir(directorio)\n",
    "directorio"
   ]
  },
  {
   "cell_type": "code",
   "execution_count": null,
   "id": "32a45a9c",
   "metadata": {},
   "outputs": [],
   "source": [
    "# Read data"
   ]
  },
  {
   "cell_type": "code",
   "execution_count": 18,
   "id": "7b1fc492",
   "metadata": {},
   "outputs": [],
   "source": [
    "prediction = gpd.read_file(\"out/prediction.shp\")"
   ]
  },
  {
   "cell_type": "code",
   "execution_count": null,
   "id": "c32ce10e",
   "metadata": {},
   "outputs": [],
   "source": [
    "# Wrangling"
   ]
  },
  {
   "cell_type": "code",
   "execution_count": 2,
   "id": "f39ae0a0",
   "metadata": {},
   "outputs": [
    {
     "name": "stdout",
     "output_type": "stream",
     "text": [
      "User Guide: https://docs.kepler.gl/docs/keplergl-jupyter\n"
     ]
    }
   ],
   "source": [
    "map_1 = KeplerGl()"
   ]
  },
  {
   "cell_type": "code",
   "execution_count": 6,
   "id": "f538bdad",
   "metadata": {},
   "outputs": [],
   "source": [
    "map_1.add_data(data = prediction, name = \"forecast_heat_cdmx\")"
   ]
  },
  {
   "cell_type": "code",
   "execution_count": 12,
   "id": "81898feb",
   "metadata": {},
   "outputs": [],
   "source": [
    "config = {\n",
    "    'version': 'v1',\n",
    "    'config': {'visState': {'filters': [],\n",
    "                            'layers': [{'id': '9jofwqn',\n",
    "                                        'type': 'geojson',\n",
    "                                        'config': {'dataId': 'forecast_heat_cdmx',\n",
    "                                                   'label': 'forecast_heat_cdmx',\n",
    "                                                   'color': [18, 147, 154],\n",
    "                                                   'highlightColor': [252, 242, 26, 255],\n",
    "                                                   'columns': {'geojson': 'geometry'},\n",
    "                                                   'isVisible': True,\n",
    "                                                   'visConfig': {'opacity': 0.8,\n",
    "                                                                 'strokeOpacity': 0.8,\n",
    "                                                                 'thickness': 0.5,\n",
    "                                                                 'strokeColor': [221, 178, 124],\n",
    "                                                                 'colorRange': {'name': 'Global Warming',\n",
    "                                                                                'type': 'sequential',\n",
    "                                                                                'category': 'Uber',\n",
    "                                                                                'colors': ['#FFC300',\n",
    "                                                                                           '#F1920E',\n",
    "                                                                                           '#E3611C',\n",
    "                                                                                           '#C70039',\n",
    "                                                                                           '#900C3F',\n",
    "                                                                                           '#5A1846'],\n",
    "                                                                                'reversed': True},\n",
    "                                                                 'strokeColorRange': {'name': 'Global Warming',\n",
    "                                                                                      'type': 'sequential',\n",
    "                                                                                      'category': 'Uber',\n",
    "                                                                                      'colors': ['#5A1846',\n",
    "                                                                                                 '#900C3F',\n",
    "                                                                                                 '#C70039',\n",
    "                                                                                                 '#E3611C',\n",
    "                                                                                                 '#F1920E',\n",
    "                                                                                                 '#FFC300']},\n",
    "                                                                 'radius': 10,\n",
    "                                                                 'sizeRange': [0, 10],\n",
    "                                                                 'radiusRange': [0, 50],\n",
    "                                                                 'heightRange': [0, 500],\n",
    "                                                                 'elevationScale': 5,\n",
    "                                                                 'enableElevationZoomFactor': True,\n",
    "                                                                 'stroked': False,\n",
    "                                                                 'filled': True,\n",
    "                                                                 'enable3d': False,\n",
    "                                                                 'wireframe': False},\n",
    "                                                   'hidden': False,\n",
    "                                                   'textLabel': [{'field': None,\n",
    "                                                                  'color': [255, 255, 255],\n",
    "                                                                  'size': 18,\n",
    "                                                                  'offset': [0, 0],\n",
    "                                                                  'anchor': 'start',\n",
    "                                                                  'alignment': 'center'}]},\n",
    "                                        'visualChannels': {'colorField': {'name': 'prob_heat', 'type': 'real'},\n",
    "                                                           'colorScale': 'quantile',\n",
    "                                                           'strokeColorField': None,\n",
    "                                                           'strokeColorScale': 'quantile',\n",
    "                                                           'sizeField': None,\n",
    "                                                           'sizeScale': 'linear',\n",
    "                                                           'heightField': None,\n",
    "                                                           'heightScale': 'linear',\n",
    "                                                           'radiusField': None,\n",
    "                                                           'radiusScale': 'linear'}}],\n",
    "                            'interactionConfig': {'tooltip': {'fieldsToShow': {'forecast_heat_cdmx': [{'name': 'flag_heat',\n",
    "                                                                                                       'format': None},\n",
    "                                                                                                      {'name': 'prob_heat', 'format': None}]},\n",
    "                                                              'compareMode': False,\n",
    "                                                              'compareType': 'absolute',\n",
    "                                                              'enabled': True},\n",
    "                                                  'brush': {'size': 0.5, 'enabled': False},\n",
    "                                                  'geocoder': {'enabled': True},\n",
    "                                                  'coordinate': {'enabled': False}},\n",
    "                            'layerBlending': 'normal',\n",
    "                            'splitMaps': [],\n",
    "                            'animationConfig': {'currentTime': None, 'speed': 1}},\n",
    "               'mapState': {'bearing': 0,\n",
    "                            'dragRotate': False,\n",
    "                            'latitude': 24.40093995333229,\n",
    "                            'longitude': -91.15767797218389,\n",
    "                            'pitch': 0,\n",
    "                            'zoom': 2.7249388720648637,\n",
    "                            'isSplit': False},\n",
    "               'mapStyle': {'styleType': 'dark',\n",
    "                            'topLayerGroups': {},\n",
    "                            'visibleLayerGroups': {'label': True,\n",
    "                                                   'road': True,\n",
    "                                                   'border': False,\n",
    "                                                   'building': True,\n",
    "                                                   'water': True,\n",
    "                                                   'land': True,\n",
    "                                                   '3d building': False},\n",
    "                            'threeDBuildingColor': [9.665468314072013,\n",
    "                                                    17.18305478057247,\n",
    "                                                    31.1442867897876],\n",
    "                            'mapStyles': {}}}\n",
    "}"
   ]
  },
  {
   "cell_type": "code",
   "execution_count": 13,
   "id": "364f3d92",
   "metadata": {},
   "outputs": [],
   "source": [
    "map_1.config = config"
   ]
  },
  {
   "cell_type": "code",
   "execution_count": 19,
   "id": "099c4ad7",
   "metadata": {},
   "outputs": [
    {
     "name": "stdout",
     "output_type": "stream",
     "text": [
      "Map saved to out/interactive_map_forecast.html!\n"
     ]
    }
   ],
   "source": [
    "map_1.save_to_html(file_name = \"out/interactive_map_forecast.html\")"
   ]
  }
 ],
 "metadata": {
  "kernelspec": {
   "display_name": "Python 3 (ipykernel)",
   "language": "python",
   "name": "python3"
  },
  "language_info": {
   "codemirror_mode": {
    "name": "ipython",
    "version": 3
   },
   "file_extension": ".py",
   "mimetype": "text/x-python",
   "name": "python",
   "nbconvert_exporter": "python",
   "pygments_lexer": "ipython3",
   "version": "3.11.3"
  }
 },
 "nbformat": 4,
 "nbformat_minor": 5
}
